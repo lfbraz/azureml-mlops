{
  "cells": [
    {
      "cell_type": "markdown",
      "metadata": {},
      "source": [
        "# Get the Workspace"
      ]
    },
    {
      "cell_type": "code",
      "execution_count": 1,
      "metadata": {},
      "outputs": [],
      "source": [
        "from azureml.core.workspace import Workspace\n",
        "\n",
        "workspace = Workspace.from_config()"
      ]
    },
    {
      "cell_type": "markdown",
      "metadata": {},
      "source": [
        "# Load the Model"
      ]
    },
    {
      "cell_type": "code",
      "execution_count": 9,
      "metadata": {},
      "outputs": [],
      "source": [
        "from azureml.core.model import Model\n",
        "import pickle\n",
        "\n",
        "model = Model(workspace, 'churn-model')\n",
        "model.download(exist_ok=True)\n",
        "\n",
        "loaded_model = pickle.load(open('model.pickle', \"rb\"))"
      ]
    },
    {
      "cell_type": "code",
      "execution_count": 32,
      "metadata": {},
      "outputs": [
        {
          "name": "stdout",
          "output_type": "stream",
          "text": [
            "Overwriting entry.py\n"
          ]
        }
      ],
      "source": [
        "%%writefile entry.py\n",
        "import json\n",
        "import pickle\n",
        "import numpy as np\n",
        "import pandas as pd\n",
        "import os\n",
        "import xgboost as xgb\n",
        "\n",
        "# Called when the service is loaded\n",
        "def init():\n",
        "    global model\n",
        "    # Get the path to the registered model file and load it\n",
        "    model_path = os.path.join(os.getenv('AZUREML_MODEL_DIR'), 'model.pickle')\n",
        "    print(model_path)\n",
        "    model = pickle.load(open(model_path, \"rb\"))\n",
        "\n",
        "# Called when a request is received\n",
        "def run(data):\n",
        "    data = pd.read_json(data, orient = 'split')\n",
        "    data_xgb = xgb.DMatrix(data)\n",
        "\n",
        "    # Return the prediction\n",
        "    prediction = predict(data_xgb)\n",
        "    return prediction\n",
        "\n",
        "def predict(data):\n",
        "    prediction = model.predict(data)[0]\n",
        "    return {\"churn-prediction\": str(int(prediction))}"
      ]
    },
    {
      "cell_type": "markdown",
      "metadata": {},
      "source": [
        "# Create an environment "
      ]
    },
    {
      "cell_type": "code",
      "execution_count": 18,
      "metadata": {},
      "outputs": [],
      "source": [
        "from azureml.core import Environment\n",
        "from azureml.core.conda_dependencies import CondaDependencies\n",
        "\n",
        "xgboost_env = Environment(workspace=workspace, name=\"XGBoost-Env\")\n",
        "conda_dep = CondaDependencies()\n",
        "\n",
        "conda_dep.add_pip_package(\"azureml-dataprep[pandas]\")\n",
        "conda_dep.add_pip_package(\"azureml-defaults\")\n",
        "conda_dep.add_pip_package(\"xgboost==0.90\")\n",
        "conda_dep.add_pip_package(\"scikit-learn==0.22.2.post1\")\n",
        "conda_dep.add_pip_package(\"numpy==1.18.5\")\n",
        "\n",
        "# Adds dependencies to PythonSection of myenv\n",
        "xgboost_env.python.conda_dependencies=conda_dep\n",
        "xgboost_env.register(workspace)"
      ]
    },
    {
      "cell_type": "markdown",
      "metadata": {},
      "source": [
        "## Combine Entry Script and Environment"
      ]
    },
    {
      "cell_type": "code",
      "execution_count": 29,
      "metadata": {},
      "outputs": [],
      "source": [
        "from azureml.core.model import InferenceConfig\n",
        "\n",
        "inference_config = InferenceConfig(entry_script=\"entry.py\",\n",
        "                                   environment=xgboost_env)"
      ]
    },
    {
      "cell_type": "markdown",
      "metadata": {},
      "source": [
        "# Deploy"
      ]
    },
    {
      "cell_type": "markdown",
      "metadata": {},
      "source": [
        "## Get the Inference Cluster"
      ]
    },
    {
      "cell_type": "code",
      "execution_count": 22,
      "metadata": {},
      "outputs": [],
      "source": [
        "from azureml.core.compute import AksCompute\n",
        "\n",
        "cluster_name = 'aks-e2e-1'\n",
        "aks_target = AksCompute(workspace, cluster_name)"
      ]
    },
    {
      "cell_type": "markdown",
      "metadata": {},
      "source": [
        "## Deploy the Model"
      ]
    },
    {
      "cell_type": "code",
      "execution_count": 30,
      "metadata": {},
      "outputs": [
        {
          "name": "stdout",
          "output_type": "stream",
          "text": [
            "Tips: You can try get_logs(): https://aka.ms/debugimage#dockerlog or local deployment: https://aka.ms/debugimage#debug-locally to debug if deployment takes longer than 10 minutes.\n",
            "Running\n",
            "2021-11-15 16:13:26+00:00 Creating Container Registry if not exists.\n",
            "2021-11-15 16:13:26+00:00 Registering the environment.\n",
            "2021-11-15 16:13:27+00:00 Use the existing image.\n",
            "2021-11-15 16:13:28+00:00 Checking the status of deployment churn-model-dev.\n",
            "Failed\n"
          ]
        },
        {
          "name": "stderr",
          "output_type": "stream",
          "text": [
            "Service deployment polling reached non-successful terminal state, current service state: Failed\n",
            "Operation ID: 33543f92-ef65-443d-bdf6-8c7bb7df48ae\n",
            "More information can be found using '.get_logs()'\n",
            "Error:\n",
            "{\n",
            "  \"code\": \"KubernetesDeploymentFailed\",\n",
            "  \"statusCode\": 400,\n",
            "  \"message\": \"Kubernetes Deployment failed\",\n",
            "  \"details\": [\n",
            "    {\n",
            "      \"code\": \"CrashLoopBackOff\",\n",
            "      \"message\": \"Error in entry script, FileNotFoundError: [Errno 2] No such file or directory: '/var/azureml-app/azureml-models/churn-model/7/outputs/model.pkl', please run print(service.get_logs()) to get details.\"\n",
            "    },\n",
            "    {\n",
            "      \"code\": \"DeploymentFailed\",\n",
            "      \"message\": \"Your container endpoint is not available. Please follow the steps to debug:\n",
            "\t1. From the AML SDK, you can run print(service.get_logs()) if you have service object to fetch the logs. Please refer to https://aka.ms/debugimage#dockerlog for more information.\n",
            "\t2. You can also interactively debug your scoring file locally. Please refer to https://docs.microsoft.com/azure/machine-learning/how-to-debug-visual-studio-code#debug-and-troubleshoot-deployments for more information.\n",
            "\t3. View the diagnostic events to check status of container, it may help you to debug the issue.\n",
            "{\"InvolvedObject\":\"churn-model-dev-75fbf6bb58-8tb4b\",\"InvolvedKind\":\"Pod\",\"Type\":\"Warning\",\"Reason\":\"FailedScheduling\",\"Message\":\"0/1 nodes are available: 1 pod has unbound immediate PersistentVolumeClaims.\",\"LastTimestamp\":\"2021-11-15T16:13:36Z\"}\n",
            "{\"InvolvedObject\":\"churn-model-dev-75fbf6bb58-8tb4b\",\"InvolvedKind\":\"Pod\",\"Type\":\"Normal\",\"Reason\":\"Scheduled\",\"Message\":\"Successfully assigned azureml-aml-labs/churn-model-dev-75fbf6bb58-8tb4b to aks-agentpool-30715519-vmss000000\",\"LastTimestamp\":\"2021-11-15T16:13:38Z\"}\n",
            "{\"InvolvedObject\":\"churn-model-dev-75fbf6bb58-8tb4b\",\"InvolvedKind\":\"Pod\",\"Type\":\"Normal\",\"Reason\":\"Pulled\",\"Message\":\"Container image \"mcr.microsoft.com/azureml/dependency-unpacker:20210714\" already present on machine\",\"LastTimestamp\":\"2021-11-15T16:13:39Z\"}\n",
            "{\"InvolvedObject\":\"churn-model-dev-75fbf6bb58-8tb4b\",\"InvolvedKind\":\"Pod\",\"Type\":\"Normal\",\"Reason\":\"Created\",\"Message\":\"Created container amlappinit\",\"LastTimestamp\":\"2021-11-15T16:13:40Z\"}\n",
            "{\"InvolvedObject\":\"churn-model-dev-75fbf6bb58-8tb4b\",\"InvolvedKind\":\"Pod\",\"Type\":\"Normal\",\"Reason\":\"Started\",\"Message\":\"Started container amlappinit\",\"LastTimestamp\":\"2021-11-15T16:13:40Z\"}\n",
            "{\"InvolvedObject\":\"churn-model-dev-75fbf6bb58-8tb4b\",\"InvolvedKind\":\"Pod\",\"Type\":\"Normal\",\"Reason\":\"Pulled\",\"Message\":\"Container image \"acramllabs.azurecr.io/azureml/azureml_a49ae30bd1e89d249ee9fadc4ac38db5\" already present on machine\",\"LastTimestamp\":\"2021-11-15T16:14:16Z\"}\n",
            "{\"InvolvedObject\":\"churn-model-dev-75fbf6bb58-8tb4b\",\"InvolvedKind\":\"Pod\",\"Type\":\"Normal\",\"Reason\":\"Created\",\"Message\":\"Created container churn-model-dev\",\"LastTimestamp\":\"2021-11-15T16:14:17Z\"}\n",
            "{\"InvolvedObject\":\"churn-model-dev-75fbf6bb58-8tb4b\",\"InvolvedKind\":\"Pod\",\"Type\":\"Normal\",\"Reason\":\"Started\",\"Message\":\"Started container churn-model-dev\",\"LastTimestamp\":\"2021-11-15T16:14:17Z\"}\n",
            "{\"InvolvedObject\":\"churn-model-dev-75fbf6bb58-8tb4b\",\"InvolvedKind\":\"Pod\",\"Type\":\"Warning\",\"Reason\":\"Unhealthy\",\"Message\":\"Readiness probe failed: HTTP probe failed with statuscode: 502\",\"LastTimestamp\":\"2021-11-15T16:14:50Z\"}\n",
            "{\"InvolvedObject\":\"churn-model-dev-75fbf6bb58-8tb4b\",\"InvolvedKind\":\"Pod\",\"Type\":\"Warning\",\"Reason\":\"BackOff\",\"Message\":\"Back-off restarting failed container\",\"LastTimestamp\":\"2021-11-15T16:14:51Z\"}\n",
            "\"\n",
            "    }\n",
            "  ]\n",
            "}\n",
            "\n"
          ]
        },
        {
          "ename": "WebserviceException",
          "evalue": "WebserviceException:\n\tMessage: Service deployment polling reached non-successful terminal state, current service state: Failed\nOperation ID: 33543f92-ef65-443d-bdf6-8c7bb7df48ae\nMore information can be found using '.get_logs()'\nError:\n{\n  \"code\": \"KubernetesDeploymentFailed\",\n  \"statusCode\": 400,\n  \"message\": \"Kubernetes Deployment failed\",\n  \"details\": [\n    {\n      \"code\": \"CrashLoopBackOff\",\n      \"message\": \"Error in entry script, FileNotFoundError: [Errno 2] No such file or directory: '/var/azureml-app/azureml-models/churn-model/7/outputs/model.pkl', please run print(service.get_logs()) to get details.\"\n    },\n    {\n      \"code\": \"DeploymentFailed\",\n      \"message\": \"Your container endpoint is not available. Please follow the steps to debug:\n\t1. From the AML SDK, you can run print(service.get_logs()) if you have service object to fetch the logs. Please refer to https://aka.ms/debugimage#dockerlog for more information.\n\t2. You can also interactively debug your scoring file locally. Please refer to https://docs.microsoft.com/azure/machine-learning/how-to-debug-visual-studio-code#debug-and-troubleshoot-deployments for more information.\n\t3. View the diagnostic events to check status of container, it may help you to debug the issue.\n{\"InvolvedObject\":\"churn-model-dev-75fbf6bb58-8tb4b\",\"InvolvedKind\":\"Pod\",\"Type\":\"Warning\",\"Reason\":\"FailedScheduling\",\"Message\":\"0/1 nodes are available: 1 pod has unbound immediate PersistentVolumeClaims.\",\"LastTimestamp\":\"2021-11-15T16:13:36Z\"}\n{\"InvolvedObject\":\"churn-model-dev-75fbf6bb58-8tb4b\",\"InvolvedKind\":\"Pod\",\"Type\":\"Normal\",\"Reason\":\"Scheduled\",\"Message\":\"Successfully assigned azureml-aml-labs/churn-model-dev-75fbf6bb58-8tb4b to aks-agentpool-30715519-vmss000000\",\"LastTimestamp\":\"2021-11-15T16:13:38Z\"}\n{\"InvolvedObject\":\"churn-model-dev-75fbf6bb58-8tb4b\",\"InvolvedKind\":\"Pod\",\"Type\":\"Normal\",\"Reason\":\"Pulled\",\"Message\":\"Container image \"mcr.microsoft.com/azureml/dependency-unpacker:20210714\" already present on machine\",\"LastTimestamp\":\"2021-11-15T16:13:39Z\"}\n{\"InvolvedObject\":\"churn-model-dev-75fbf6bb58-8tb4b\",\"InvolvedKind\":\"Pod\",\"Type\":\"Normal\",\"Reason\":\"Created\",\"Message\":\"Created container amlappinit\",\"LastTimestamp\":\"2021-11-15T16:13:40Z\"}\n{\"InvolvedObject\":\"churn-model-dev-75fbf6bb58-8tb4b\",\"InvolvedKind\":\"Pod\",\"Type\":\"Normal\",\"Reason\":\"Started\",\"Message\":\"Started container amlappinit\",\"LastTimestamp\":\"2021-11-15T16:13:40Z\"}\n{\"InvolvedObject\":\"churn-model-dev-75fbf6bb58-8tb4b\",\"InvolvedKind\":\"Pod\",\"Type\":\"Normal\",\"Reason\":\"Pulled\",\"Message\":\"Container image \"acramllabs.azurecr.io/azureml/azureml_a49ae30bd1e89d249ee9fadc4ac38db5\" already present on machine\",\"LastTimestamp\":\"2021-11-15T16:14:16Z\"}\n{\"InvolvedObject\":\"churn-model-dev-75fbf6bb58-8tb4b\",\"InvolvedKind\":\"Pod\",\"Type\":\"Normal\",\"Reason\":\"Created\",\"Message\":\"Created container churn-model-dev\",\"LastTimestamp\":\"2021-11-15T16:14:17Z\"}\n{\"InvolvedObject\":\"churn-model-dev-75fbf6bb58-8tb4b\",\"InvolvedKind\":\"Pod\",\"Type\":\"Normal\",\"Reason\":\"Started\",\"Message\":\"Started container churn-model-dev\",\"LastTimestamp\":\"2021-11-15T16:14:17Z\"}\n{\"InvolvedObject\":\"churn-model-dev-75fbf6bb58-8tb4b\",\"InvolvedKind\":\"Pod\",\"Type\":\"Warning\",\"Reason\":\"Unhealthy\",\"Message\":\"Readiness probe failed: HTTP probe failed with statuscode: 502\",\"LastTimestamp\":\"2021-11-15T16:14:50Z\"}\n{\"InvolvedObject\":\"churn-model-dev-75fbf6bb58-8tb4b\",\"InvolvedKind\":\"Pod\",\"Type\":\"Warning\",\"Reason\":\"BackOff\",\"Message\":\"Back-off restarting failed container\",\"LastTimestamp\":\"2021-11-15T16:14:51Z\"}\n\"\n    }\n  ]\n}\n\tInnerException None\n\tErrorResponse \n{\n    \"error\": {\n        \"message\": \"Service deployment polling reached non-successful terminal state, current service state: Failed\\nOperation ID: 33543f92-ef65-443d-bdf6-8c7bb7df48ae\\nMore information can be found using '.get_logs()'\\nError:\\n{\\n  \\\"code\\\": \\\"KubernetesDeploymentFailed\\\",\\n  \\\"statusCode\\\": 400,\\n  \\\"message\\\": \\\"Kubernetes Deployment failed\\\",\\n  \\\"details\\\": [\\n    {\\n      \\\"code\\\": \\\"CrashLoopBackOff\\\",\\n      \\\"message\\\": \\\"Error in entry script, FileNotFoundError: [Errno 2] No such file or directory: '/var/azureml-app/azureml-models/churn-model/7/outputs/model.pkl', please run print(service.get_logs()) to get details.\\\"\\n    },\\n    {\\n      \\\"code\\\": \\\"DeploymentFailed\\\",\\n      \\\"message\\\": \\\"Your container endpoint is not available. Please follow the steps to debug:\\n\\t1. From the AML SDK, you can run print(service.get_logs()) if you have service object to fetch the logs. Please refer to https://aka.ms/debugimage#dockerlog for more information.\\n\\t2. You can also interactively debug your scoring file locally. Please refer to https://docs.microsoft.com/azure/machine-learning/how-to-debug-visual-studio-code#debug-and-troubleshoot-deployments for more information.\\n\\t3. View the diagnostic events to check status of container, it may help you to debug the issue.\\n{\\\"InvolvedObject\\\":\\\"churn-model-dev-75fbf6bb58-8tb4b\\\",\\\"InvolvedKind\\\":\\\"Pod\\\",\\\"Type\\\":\\\"Warning\\\",\\\"Reason\\\":\\\"FailedScheduling\\\",\\\"Message\\\":\\\"0/1 nodes are available: 1 pod has unbound immediate PersistentVolumeClaims.\\\",\\\"LastTimestamp\\\":\\\"2021-11-15T16:13:36Z\\\"}\\n{\\\"InvolvedObject\\\":\\\"churn-model-dev-75fbf6bb58-8tb4b\\\",\\\"InvolvedKind\\\":\\\"Pod\\\",\\\"Type\\\":\\\"Normal\\\",\\\"Reason\\\":\\\"Scheduled\\\",\\\"Message\\\":\\\"Successfully assigned azureml-aml-labs/churn-model-dev-75fbf6bb58-8tb4b to aks-agentpool-30715519-vmss000000\\\",\\\"LastTimestamp\\\":\\\"2021-11-15T16:13:38Z\\\"}\\n{\\\"InvolvedObject\\\":\\\"churn-model-dev-75fbf6bb58-8tb4b\\\",\\\"InvolvedKind\\\":\\\"Pod\\\",\\\"Type\\\":\\\"Normal\\\",\\\"Reason\\\":\\\"Pulled\\\",\\\"Message\\\":\\\"Container image \\\"mcr.microsoft.com/azureml/dependency-unpacker:20210714\\\" already present on machine\\\",\\\"LastTimestamp\\\":\\\"2021-11-15T16:13:39Z\\\"}\\n{\\\"InvolvedObject\\\":\\\"churn-model-dev-75fbf6bb58-8tb4b\\\",\\\"InvolvedKind\\\":\\\"Pod\\\",\\\"Type\\\":\\\"Normal\\\",\\\"Reason\\\":\\\"Created\\\",\\\"Message\\\":\\\"Created container amlappinit\\\",\\\"LastTimestamp\\\":\\\"2021-11-15T16:13:40Z\\\"}\\n{\\\"InvolvedObject\\\":\\\"churn-model-dev-75fbf6bb58-8tb4b\\\",\\\"InvolvedKind\\\":\\\"Pod\\\",\\\"Type\\\":\\\"Normal\\\",\\\"Reason\\\":\\\"Started\\\",\\\"Message\\\":\\\"Started container amlappinit\\\",\\\"LastTimestamp\\\":\\\"2021-11-15T16:13:40Z\\\"}\\n{\\\"InvolvedObject\\\":\\\"churn-model-dev-75fbf6bb58-8tb4b\\\",\\\"InvolvedKind\\\":\\\"Pod\\\",\\\"Type\\\":\\\"Normal\\\",\\\"Reason\\\":\\\"Pulled\\\",\\\"Message\\\":\\\"Container image \\\"acramllabs.azurecr.io/azureml/azureml_a49ae30bd1e89d249ee9fadc4ac38db5\\\" already present on machine\\\",\\\"LastTimestamp\\\":\\\"2021-11-15T16:14:16Z\\\"}\\n{\\\"InvolvedObject\\\":\\\"churn-model-dev-75fbf6bb58-8tb4b\\\",\\\"InvolvedKind\\\":\\\"Pod\\\",\\\"Type\\\":\\\"Normal\\\",\\\"Reason\\\":\\\"Created\\\",\\\"Message\\\":\\\"Created container churn-model-dev\\\",\\\"LastTimestamp\\\":\\\"2021-11-15T16:14:17Z\\\"}\\n{\\\"InvolvedObject\\\":\\\"churn-model-dev-75fbf6bb58-8tb4b\\\",\\\"InvolvedKind\\\":\\\"Pod\\\",\\\"Type\\\":\\\"Normal\\\",\\\"Reason\\\":\\\"Started\\\",\\\"Message\\\":\\\"Started container churn-model-dev\\\",\\\"LastTimestamp\\\":\\\"2021-11-15T16:14:17Z\\\"}\\n{\\\"InvolvedObject\\\":\\\"churn-model-dev-75fbf6bb58-8tb4b\\\",\\\"InvolvedKind\\\":\\\"Pod\\\",\\\"Type\\\":\\\"Warning\\\",\\\"Reason\\\":\\\"Unhealthy\\\",\\\"Message\\\":\\\"Readiness probe failed: HTTP probe failed with statuscode: 502\\\",\\\"LastTimestamp\\\":\\\"2021-11-15T16:14:50Z\\\"}\\n{\\\"InvolvedObject\\\":\\\"churn-model-dev-75fbf6bb58-8tb4b\\\",\\\"InvolvedKind\\\":\\\"Pod\\\",\\\"Type\\\":\\\"Warning\\\",\\\"Reason\\\":\\\"BackOff\\\",\\\"Message\\\":\\\"Back-off restarting failed container\\\",\\\"LastTimestamp\\\":\\\"2021-11-15T16:14:51Z\\\"}\\n\\\"\\n    }\\n  ]\\n}\"\n    }\n}",
          "output_type": "error",
          "traceback": [
            "\u001b[0;31m---------------------------------------------------------------------------\u001b[0m",
            "\u001b[0;31mWebserviceException\u001b[0m                       Traceback (most recent call last)",
            "\u001b[0;32m<ipython-input-30-d5b114fd5d4a>\u001b[0m in \u001b[0;36m<module>\u001b[0;34m\u001b[0m\n\u001b[1;32m      9\u001b[0m                        \u001b[0mdeployment_target\u001b[0m \u001b[0;34m=\u001b[0m \u001b[0maks_target\u001b[0m\u001b[0;34m,\u001b[0m\u001b[0;34m\u001b[0m\u001b[0;34m\u001b[0m\u001b[0m\n\u001b[1;32m     10\u001b[0m                        overwrite=True)\n\u001b[0;32m---> 11\u001b[0;31m \u001b[0mservice\u001b[0m\u001b[0;34m.\u001b[0m\u001b[0mwait_for_deployment\u001b[0m\u001b[0;34m(\u001b[0m\u001b[0mshow_output\u001b[0m \u001b[0;34m=\u001b[0m \u001b[0;32mTrue\u001b[0m\u001b[0;34m)\u001b[0m\u001b[0;34m\u001b[0m\u001b[0;34m\u001b[0m\u001b[0m\n\u001b[0m",
            "\u001b[0;32m/anaconda/envs/azureml_py36/lib/python3.6/site-packages/azureml/core/webservice/webservice.py\u001b[0m in \u001b[0;36mwait_for_deployment\u001b[0;34m(self, show_output, timeout_sec)\u001b[0m\n\u001b[1;32m    923\u001b[0m                                           \u001b[0;34m'Error:\\n'\u001b[0m\u001b[0;34m\u001b[0m\u001b[0;34m\u001b[0m\u001b[0m\n\u001b[1;32m    924\u001b[0m                                           '{}'.format(self.state, self._operation_endpoint.split('/')[-1],\n\u001b[0;32m--> 925\u001b[0;31m                                                       logs_response, format_error_response), logger=module_logger)\n\u001b[0m\u001b[1;32m    926\u001b[0m             print('{} service creation operation finished, operation \"{}\"'.format(self._webservice_type,\n\u001b[1;32m    927\u001b[0m                                                                                   operation_state))\n",
            "\u001b[0;31mWebserviceException\u001b[0m: WebserviceException:\n\tMessage: Service deployment polling reached non-successful terminal state, current service state: Failed\nOperation ID: 33543f92-ef65-443d-bdf6-8c7bb7df48ae\nMore information can be found using '.get_logs()'\nError:\n{\n  \"code\": \"KubernetesDeploymentFailed\",\n  \"statusCode\": 400,\n  \"message\": \"Kubernetes Deployment failed\",\n  \"details\": [\n    {\n      \"code\": \"CrashLoopBackOff\",\n      \"message\": \"Error in entry script, FileNotFoundError: [Errno 2] No such file or directory: '/var/azureml-app/azureml-models/churn-model/7/outputs/model.pkl', please run print(service.get_logs()) to get details.\"\n    },\n    {\n      \"code\": \"DeploymentFailed\",\n      \"message\": \"Your container endpoint is not available. Please follow the steps to debug:\n\t1. From the AML SDK, you can run print(service.get_logs()) if you have service object to fetch the logs. Please refer to https://aka.ms/debugimage#dockerlog for more information.\n\t2. You can also interactively debug your scoring file locally. Please refer to https://docs.microsoft.com/azure/machine-learning/how-to-debug-visual-studio-code#debug-and-troubleshoot-deployments for more information.\n\t3. View the diagnostic events to check status of container, it may help you to debug the issue.\n{\"InvolvedObject\":\"churn-model-dev-75fbf6bb58-8tb4b\",\"InvolvedKind\":\"Pod\",\"Type\":\"Warning\",\"Reason\":\"FailedScheduling\",\"Message\":\"0/1 nodes are available: 1 pod has unbound immediate PersistentVolumeClaims.\",\"LastTimestamp\":\"2021-11-15T16:13:36Z\"}\n{\"InvolvedObject\":\"churn-model-dev-75fbf6bb58-8tb4b\",\"InvolvedKind\":\"Pod\",\"Type\":\"Normal\",\"Reason\":\"Scheduled\",\"Message\":\"Successfully assigned azureml-aml-labs/churn-model-dev-75fbf6bb58-8tb4b to aks-agentpool-30715519-vmss000000\",\"LastTimestamp\":\"2021-11-15T16:13:38Z\"}\n{\"InvolvedObject\":\"churn-model-dev-75fbf6bb58-8tb4b\",\"InvolvedKind\":\"Pod\",\"Type\":\"Normal\",\"Reason\":\"Pulled\",\"Message\":\"Container image \"mcr.microsoft.com/azureml/dependency-unpacker:20210714\" already present on machine\",\"LastTimestamp\":\"2021-11-15T16:13:39Z\"}\n{\"InvolvedObject\":\"churn-model-dev-75fbf6bb58-8tb4b\",\"InvolvedKind\":\"Pod\",\"Type\":\"Normal\",\"Reason\":\"Created\",\"Message\":\"Created container amlappinit\",\"LastTimestamp\":\"2021-11-15T16:13:40Z\"}\n{\"InvolvedObject\":\"churn-model-dev-75fbf6bb58-8tb4b\",\"InvolvedKind\":\"Pod\",\"Type\":\"Normal\",\"Reason\":\"Started\",\"Message\":\"Started container amlappinit\",\"LastTimestamp\":\"2021-11-15T16:13:40Z\"}\n{\"InvolvedObject\":\"churn-model-dev-75fbf6bb58-8tb4b\",\"InvolvedKind\":\"Pod\",\"Type\":\"Normal\",\"Reason\":\"Pulled\",\"Message\":\"Container image \"acramllabs.azurecr.io/azureml/azureml_a49ae30bd1e89d249ee9fadc4ac38db5\" already present on machine\",\"LastTimestamp\":\"2021-11-15T16:14:16Z\"}\n{\"InvolvedObject\":\"churn-model-dev-75fbf6bb58-8tb4b\",\"InvolvedKind\":\"Pod\",\"Type\":\"Normal\",\"Reason\":\"Created\",\"Message\":\"Created container churn-model-dev\",\"LastTimestamp\":\"2021-11-15T16:14:17Z\"}\n{\"InvolvedObject\":\"churn-model-dev-75fbf6bb58-8tb4b\",\"InvolvedKind\":\"Pod\",\"Type\":\"Normal\",\"Reason\":\"Started\",\"Message\":\"Started container churn-model-dev\",\"LastTimestamp\":\"2021-11-15T16:14:17Z\"}\n{\"InvolvedObject\":\"churn-model-dev-75fbf6bb58-8tb4b\",\"InvolvedKind\":\"Pod\",\"Type\":\"Warning\",\"Reason\":\"Unhealthy\",\"Message\":\"Readiness probe failed: HTTP probe failed with statuscode: 502\",\"LastTimestamp\":\"2021-11-15T16:14:50Z\"}\n{\"InvolvedObject\":\"churn-model-dev-75fbf6bb58-8tb4b\",\"InvolvedKind\":\"Pod\",\"Type\":\"Warning\",\"Reason\":\"BackOff\",\"Message\":\"Back-off restarting failed container\",\"LastTimestamp\":\"2021-11-15T16:14:51Z\"}\n\"\n    }\n  ]\n}\n\tInnerException None\n\tErrorResponse \n{\n    \"error\": {\n        \"message\": \"Service deployment polling reached non-successful terminal state, current service state: Failed\\nOperation ID: 33543f92-ef65-443d-bdf6-8c7bb7df48ae\\nMore information can be found using '.get_logs()'\\nError:\\n{\\n  \\\"code\\\": \\\"KubernetesDeploymentFailed\\\",\\n  \\\"statusCode\\\": 400,\\n  \\\"message\\\": \\\"Kubernetes Deployment failed\\\",\\n  \\\"details\\\": [\\n    {\\n      \\\"code\\\": \\\"CrashLoopBackOff\\\",\\n      \\\"message\\\": \\\"Error in entry script, FileNotFoundError: [Errno 2] No such file or directory: '/var/azureml-app/azureml-models/churn-model/7/outputs/model.pkl', please run print(service.get_logs()) to get details.\\\"\\n    },\\n    {\\n      \\\"code\\\": \\\"DeploymentFailed\\\",\\n      \\\"message\\\": \\\"Your container endpoint is not available. Please follow the steps to debug:\\n\\t1. From the AML SDK, you can run print(service.get_logs()) if you have service object to fetch the logs. Please refer to https://aka.ms/debugimage#dockerlog for more information.\\n\\t2. You can also interactively debug your scoring file locally. Please refer to https://docs.microsoft.com/azure/machine-learning/how-to-debug-visual-studio-code#debug-and-troubleshoot-deployments for more information.\\n\\t3. View the diagnostic events to check status of container, it may help you to debug the issue.\\n{\\\"InvolvedObject\\\":\\\"churn-model-dev-75fbf6bb58-8tb4b\\\",\\\"InvolvedKind\\\":\\\"Pod\\\",\\\"Type\\\":\\\"Warning\\\",\\\"Reason\\\":\\\"FailedScheduling\\\",\\\"Message\\\":\\\"0/1 nodes are available: 1 pod has unbound immediate PersistentVolumeClaims.\\\",\\\"LastTimestamp\\\":\\\"2021-11-15T16:13:36Z\\\"}\\n{\\\"InvolvedObject\\\":\\\"churn-model-dev-75fbf6bb58-8tb4b\\\",\\\"InvolvedKind\\\":\\\"Pod\\\",\\\"Type\\\":\\\"Normal\\\",\\\"Reason\\\":\\\"Scheduled\\\",\\\"Message\\\":\\\"Successfully assigned azureml-aml-labs/churn-model-dev-75fbf6bb58-8tb4b to aks-agentpool-30715519-vmss000000\\\",\\\"LastTimestamp\\\":\\\"2021-11-15T16:13:38Z\\\"}\\n{\\\"InvolvedObject\\\":\\\"churn-model-dev-75fbf6bb58-8tb4b\\\",\\\"InvolvedKind\\\":\\\"Pod\\\",\\\"Type\\\":\\\"Normal\\\",\\\"Reason\\\":\\\"Pulled\\\",\\\"Message\\\":\\\"Container image \\\"mcr.microsoft.com/azureml/dependency-unpacker:20210714\\\" already present on machine\\\",\\\"LastTimestamp\\\":\\\"2021-11-15T16:13:39Z\\\"}\\n{\\\"InvolvedObject\\\":\\\"churn-model-dev-75fbf6bb58-8tb4b\\\",\\\"InvolvedKind\\\":\\\"Pod\\\",\\\"Type\\\":\\\"Normal\\\",\\\"Reason\\\":\\\"Created\\\",\\\"Message\\\":\\\"Created container amlappinit\\\",\\\"LastTimestamp\\\":\\\"2021-11-15T16:13:40Z\\\"}\\n{\\\"InvolvedObject\\\":\\\"churn-model-dev-75fbf6bb58-8tb4b\\\",\\\"InvolvedKind\\\":\\\"Pod\\\",\\\"Type\\\":\\\"Normal\\\",\\\"Reason\\\":\\\"Started\\\",\\\"Message\\\":\\\"Started container amlappinit\\\",\\\"LastTimestamp\\\":\\\"2021-11-15T16:13:40Z\\\"}\\n{\\\"InvolvedObject\\\":\\\"churn-model-dev-75fbf6bb58-8tb4b\\\",\\\"InvolvedKind\\\":\\\"Pod\\\",\\\"Type\\\":\\\"Normal\\\",\\\"Reason\\\":\\\"Pulled\\\",\\\"Message\\\":\\\"Container image \\\"acramllabs.azurecr.io/azureml/azureml_a49ae30bd1e89d249ee9fadc4ac38db5\\\" already present on machine\\\",\\\"LastTimestamp\\\":\\\"2021-11-15T16:14:16Z\\\"}\\n{\\\"InvolvedObject\\\":\\\"churn-model-dev-75fbf6bb58-8tb4b\\\",\\\"InvolvedKind\\\":\\\"Pod\\\",\\\"Type\\\":\\\"Normal\\\",\\\"Reason\\\":\\\"Created\\\",\\\"Message\\\":\\\"Created container churn-model-dev\\\",\\\"LastTimestamp\\\":\\\"2021-11-15T16:14:17Z\\\"}\\n{\\\"InvolvedObject\\\":\\\"churn-model-dev-75fbf6bb58-8tb4b\\\",\\\"InvolvedKind\\\":\\\"Pod\\\",\\\"Type\\\":\\\"Normal\\\",\\\"Reason\\\":\\\"Started\\\",\\\"Message\\\":\\\"Started container churn-model-dev\\\",\\\"LastTimestamp\\\":\\\"2021-11-15T16:14:17Z\\\"}\\n{\\\"InvolvedObject\\\":\\\"churn-model-dev-75fbf6bb58-8tb4b\\\",\\\"InvolvedKind\\\":\\\"Pod\\\",\\\"Type\\\":\\\"Warning\\\",\\\"Reason\\\":\\\"Unhealthy\\\",\\\"Message\\\":\\\"Readiness probe failed: HTTP probe failed with statuscode: 502\\\",\\\"LastTimestamp\\\":\\\"2021-11-15T16:14:50Z\\\"}\\n{\\\"InvolvedObject\\\":\\\"churn-model-dev-75fbf6bb58-8tb4b\\\",\\\"InvolvedKind\\\":\\\"Pod\\\",\\\"Type\\\":\\\"Warning\\\",\\\"Reason\\\":\\\"BackOff\\\",\\\"Message\\\":\\\"Back-off restarting failed container\\\",\\\"LastTimestamp\\\":\\\"2021-11-15T16:14:51Z\\\"}\\n\\\"\\n    }\\n  ]\\n}\"\n    }\n}"
          ]
        }
      ],
      "source": [
        "from azureml.core.model import Model\n",
        "\n",
        "model = workspace.models['churn-model']\n",
        "\n",
        "service = Model.deploy(workspace=workspace,\n",
        "                       name = 'churn-model-dev',\n",
        "                       models = [model],\n",
        "                       inference_config = inference_config,\n",
        "                       deployment_target = aks_target,\n",
        "                       overwrite=True)\n",
        "service.wait_for_deployment(show_output = True)"
      ]
    }
  ],
  "metadata": {
    "interpreter": {
      "hash": "cac4749ce6e64bfd07fafd5bf9c175e86cc05b1d81ce0d05824a22ecc489c963"
    },
    "kernelspec": {
      "display_name": "Python 3.6.9 64-bit ('azureml_py36': conda)",
      "language": "python",
      "name": "python3"
    },
    "language_info": {
      "codemirror_mode": {
        "name": "ipython",
        "version": 3
      },
      "file_extension": ".py",
      "mimetype": "text/x-python",
      "name": "python",
      "nbconvert_exporter": "python",
      "pygments_lexer": "ipython3",
      "version": "3.6.9"
    },
    "nteract": {
      "version": "nteract-front-end@1.0.0"
    },
    "orig_nbformat": 4
  },
  "nbformat": 4,
  "nbformat_minor": 0
}
