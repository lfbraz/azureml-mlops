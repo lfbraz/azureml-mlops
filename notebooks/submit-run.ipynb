{
  "cells": [
    {
      "cell_type": "markdown",
      "metadata": {},
      "source": [
        "## Get the Workspace"
      ]
    },
    {
      "cell_type": "code",
      "execution_count": null,
      "metadata": {},
      "outputs": [],
      "source": [
        "from azureml.core.workspace import Workspace\n",
        "\n",
        "workspace = Workspace.from_config()"
      ]
    },
    {
      "cell_type": "markdown",
      "metadata": {},
      "source": [
        "## Set the Compute Target"
      ]
    },
    {
      "cell_type": "code",
      "execution_count": null,
      "metadata": {},
      "outputs": [],
      "source": [
        "from azureml.core.compute import ComputeTarget\n",
        "from azureml.core.compute_target import ComputeTargetException\n",
        "\n",
        "cluster_name = '<YOUR-CLUSTER-NAME>'\n",
        "compute_target = ComputeTarget(workspace=workspace, name=cluster_name)"
      ]
    },
    {
      "cell_type": "markdown",
      "metadata": {},
      "source": [
        "## Create an experiment"
      ]
    },
    {
      "cell_type": "code",
      "execution_count": null,
      "metadata": {},
      "outputs": [],
      "source": [
        "from azureml.core import Experiment\n",
        "\n",
        "experiment_name = 'churn-experiment'\n",
        "experiment = Experiment(workspace=workspace, name=experiment_name)"
      ]
    },
    {
      "cell_type": "markdown",
      "metadata": {},
      "source": [
        "## Create Environment"
      ]
    },
    {
      "cell_type": "code",
      "execution_count": null,
      "metadata": {},
      "outputs": [],
      "source": [
        "from azureml.core import ScriptRunConfig, Environment\n",
        "from azureml.core.conda_dependencies import CondaDependencies\n",
        "\n",
        "xgboost_env = Environment(workspace=workspace, name=\"XGBoost-Env\")\n",
        "conda_dep = CondaDependencies()\n",
        "\n",
        "conda_dep.add_pip_package(\"azureml-dataprep[pandas]\")\n",
        "conda_dep.add_pip_package(\"azureml-defaults\")\n",
        "conda_dep.add_pip_package(\"xgboost==0.90\")\n",
        "conda_dep.add_pip_package(\"scikit-learn==0.22.2.post1\")\n",
        "conda_dep.add_pip_package(\"numpy==1.18.5\")\n",
        "conda_dep.add_pip_package(\"seaborn\")\n",
        "\n",
        "# Adds dependencies to PythonSection of myenv\n",
        "xgboost_env.python.conda_dependencies=conda_dep"
      ]
    },
    {
      "cell_type": "code",
      "execution_count": null,
      "metadata": {},
      "outputs": [],
      "source": [
        "xgboost_env.register(workspace)"
      ]
    },
    {
      "cell_type": "code",
      "execution_count": null,
      "metadata": {},
      "outputs": [],
      "source": [
        "project_folder = '../jobs/src'\n",
        "\n",
        "# Non optimized Run\n",
        "src = ScriptRunConfig(source_directory=project_folder,\n",
        "                      script='train.py',\n",
        "                      arguments=['--max_depth', 30, \n",
        "                                 '--learning_rate', 0.5, \n",
        "                                 '--reg_alpha', 0.5, \n",
        "                                 '--reg_lambda', 0.2, \n",
        "                                 '--min_child_weight', 15.00],\n",
        "                      compute_target=compute_target,\n",
        "                      environment=xgboost_env)\n",
        "\n",
        "# Optimized Run\n",
        "# src = ScriptRunConfig(source_directory=project_folder,\n",
        "#                       script='train.py',\n",
        "#                       arguments=['--max_depth', 64, \n",
        "#                                  '--learning_rate', 0.2260, \n",
        "#                                  '--reg_alpha', 0.01, \n",
        "#                                  '--reg_lambda', 0.348, \n",
        "#                                  '--min_child_weight', 19.22],\n",
        "#                       compute_target=compute_target,\n",
        "#                       environment=xgboost_env)"
      ]
    },
    {
      "cell_type": "markdown",
      "metadata": {},
      "source": [
        "## Submit the run"
      ]
    },
    {
      "cell_type": "code",
      "execution_count": null,
      "metadata": {},
      "outputs": [],
      "source": [
        "run = experiment.submit(src)"
      ]
    },
    {
      "cell_type": "markdown",
      "metadata": {},
      "source": [
        "## Monitor"
      ]
    },
    {
      "cell_type": "code",
      "execution_count": null,
      "metadata": {},
      "outputs": [],
      "source": [
        "from azureml.widgets import RunDetails\n",
        "\n",
        "RunDetails(run).show()"
      ]
    },
    {
      "cell_type": "markdown",
      "metadata": {},
      "source": [
        "## Register the Model"
      ]
    },
    {
      "cell_type": "code",
      "execution_count": null,
      "metadata": {},
      "outputs": [],
      "source": [
        "run.download_file(name='outputs/model.pickle', output_file_path='outputs')"
      ]
    },
    {
      "cell_type": "code",
      "execution_count": null,
      "metadata": {},
      "outputs": [],
      "source": [
        "model = run.register_model(model_name='churn-model', \n",
        "                           model_path='outputs/model.pickle',\n",
        "                           description='Churn Model',\n",
        "                           tags={'Model': 'XGBoost', 'type': 'Classification'},\n",
        "                          )"
      ]
    }
  ],
  "metadata": {
    "interpreter": {
      "hash": "31f2aee4e71d21fbe5cf8b01ff0e069b9275f58929596ceb00d14d90e3e16cd6"
    },
    "kernelspec": {
      "display_name": "Python 3.6 - AzureML",
      "language": "python",
      "name": "python3"
    },
    "language_info": {
      "codemirror_mode": {
        "name": "ipython",
        "version": 3
      },
      "file_extension": ".py",
      "mimetype": "text/x-python",
      "name": "python",
      "nbconvert_exporter": "python",
      "pygments_lexer": "ipython3",
      "version": "3.8.1"
    },
    "nteract": {
      "version": "nteract-front-end@1.0.0"
    }
  },
  "nbformat": 4,
  "nbformat_minor": 0
}
