{
 "cells": [
  {
   "cell_type": "markdown",
   "id": "eda85562",
   "metadata": {},
   "source": [
    "\n",
    "# Load Model and use it to make predictions"
   ]
  },
  {
   "cell_type": "markdown",
   "id": "b5001442",
   "metadata": {},
   "source": [
    "## Get the Workspace"
   ]
  },
  {
   "cell_type": "code",
   "execution_count": 3,
   "id": "ef1e5e83",
   "metadata": {},
   "outputs": [],
   "source": [
    "from azureml.core.workspace import Workspace\n",
    "\n",
    "workspace = Workspace.from_config()"
   ]
  },
  {
   "cell_type": "markdown",
   "id": "7e0b71b0",
   "metadata": {},
   "source": [
    "## Load the Model"
   ]
  },
  {
   "cell_type": "code",
   "execution_count": 3,
   "id": "a79c9226",
   "metadata": {},
   "outputs": [
    {
     "data": {
      "text/plain": [
       "'model.pickle'"
      ]
     },
     "execution_count": 3,
     "metadata": {},
     "output_type": "execute_result"
    }
   ],
   "source": [
    "from azureml.core.model import Model\n",
    "\n",
    "model = Model(workspace, 'churn-model')\n",
    "model.download(exist_ok=True)"
   ]
  },
  {
   "cell_type": "code",
   "execution_count": 1,
   "id": "539fd059",
   "metadata": {},
   "outputs": [],
   "source": [
    "import joblib\n",
    "\n",
    "loaded_model = joblib.load('model.pickle')"
   ]
  },
  {
   "cell_type": "markdown",
   "id": "0aa06179",
   "metadata": {},
   "source": [
    "## Make the predictions"
   ]
  },
  {
   "cell_type": "code",
   "execution_count": 4,
   "id": "81a30bad",
   "metadata": {},
   "outputs": [
    {
     "name": "stdout",
     "output_type": "stream",
     "text": [
      "[0.]\n"
     ]
    },
    {
     "name": "stderr",
     "output_type": "stream",
     "text": [
      "/anaconda/envs/azureml_py36/lib/python3.6/site-packages/xgboost/core.py:587: FutureWarning: Series.base is deprecated and will be removed in a future version\n",
      "  if getattr(data, 'base', None) is not None and \\\n"
     ]
    }
   ],
   "source": [
    "from azureml.core import Dataset\n",
    "import xgboost as xgb\n",
    "import src.train as train\n",
    "\n",
    "dataset = Dataset.get_by_name(workspace, name='Clientes')\n",
    "dataset = dataset.to_pandas_dataframe()\n",
    "dataset, numeric_columns = train.preprocessing(dataset)\n",
    "train_dataset, test_dataset = train.split_dataset(dataset, 2020)\n",
    "X_train, X_test, y_train, y_test = train.get_X_y(train_dataset, test_dataset, 'Churn', numeric_columns, ['Churn', 'CodigoCliente'])\n",
    "\n",
    "test_data = X_test.sample(n=1)\n",
    "\n",
    "test_data_input = xgb.DMatrix(data=test_data, label=y_test[test_data.index])\n",
    "\n",
    "# Predict\n",
    "predictions_test = loaded_model.predict(test_data_input)\n",
    "print(predictions_test)"
   ]
  }
 ],
 "metadata": {
  "interpreter": {
   "hash": "cac4749ce6e64bfd07fafd5bf9c175e86cc05b1d81ce0d05824a22ecc489c963"
  },
  "kernelspec": {
   "display_name": "Python 3.6 - AzureML",
   "language": "python",
   "name": "python3"
  },
  "language_info": {
   "codemirror_mode": {
    "name": "ipython",
    "version": 3
   },
   "file_extension": ".py",
   "mimetype": "text/x-python",
   "name": "python",
   "nbconvert_exporter": "python",
   "pygments_lexer": "ipython3",
   "version": "3.6.9"
  }
 },
 "nbformat": 4,
 "nbformat_minor": 5
}
