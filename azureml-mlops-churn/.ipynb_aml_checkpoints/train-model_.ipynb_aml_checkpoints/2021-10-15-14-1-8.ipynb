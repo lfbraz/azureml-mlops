{
 "cells": [
  {
   "cell_type": "markdown",
   "metadata": {
    "application/vnd.databricks.v1+cell": {
     "inputWidgets": {},
     "nuid": "fb23e513-bb87-49e2-87c4-39b94aed78d7",
     "showTitle": false,
     "title": ""
    }
   },
   "source": [
    "# Churn model - Training a simple classification model"
   ]
  },
  {
   "cell_type": "markdown",
   "metadata": {
    "application/vnd.databricks.v1+cell": {
     "inputWidgets": {},
     "nuid": "34cd70f0-5e67-411f-9350-99a481f0009f",
     "showTitle": false,
     "title": ""
    }
   },
   "source": [
    "## Get the data\n",
    "We will use a learning purposes dataset created with simulated data. This dataset can be found [here](https://raw.githubusercontent.com/lfbraz/azure-databricks-mlops/master/dataset/dados_clientes.csv). We will download this dataset to `dbfs` to be able to import data to dataframes."
   ]
  },
  {
   "cell_type": "code",
   "execution_count": 4,
   "metadata": {
    "application/vnd.databricks.v1+cell": {
     "inputWidgets": {},
     "nuid": "a16ef900-06e6-4165-8771-e0f2cbb6ca14",
     "showTitle": false,
     "title": ""
    }
   },
   "outputs": [],
   "source": [
    "from azureml.core import Workspace, Dataset\n",
    "\n",
    "workspace = Workspace.from_config()\n",
    "\n",
    "dataset = Dataset.get_by_name(workspace, name='Clientes')\n",
    "customer_data = dataset.to_pandas_dataframe()"
   ]
  },
  {
   "cell_type": "markdown",
   "metadata": {
    "application/vnd.databricks.v1+cell": {
     "inputWidgets": {},
     "nuid": "41590a25-1fc1-4c4e-9e35-f9111653bca0",
     "showTitle": false,
     "title": ""
    }
   },
   "source": [
    "We will develop a `sklearn` model so it will be easier to work with a Pandas Dataframe instead of a spark one (of course, when we are working in an spark environment it would be better to work with spark dataframes because of performance aspects, however for this tutorial we will use Pandas for learning reasons)"
   ]
  },
  {
   "cell_type": "code",
   "execution_count": 5,
   "metadata": {
    "application/vnd.databricks.v1+cell": {
     "inputWidgets": {},
     "nuid": "15e99fa7-8e6d-440c-8149-b7adfbfcf585",
     "showTitle": false,
     "title": ""
    }
   },
   "outputs": [
    {
     "data": {
      "text/html": [
       "<div>\n",
       "<style scoped>\n",
       "    .dataframe tbody tr th:only-of-type {\n",
       "        vertical-align: middle;\n",
       "    }\n",
       "\n",
       "    .dataframe tbody tr th {\n",
       "        vertical-align: top;\n",
       "    }\n",
       "\n",
       "    .dataframe thead th {\n",
       "        text-align: right;\n",
       "    }\n",
       "</style>\n",
       "<table border=\"1\" class=\"dataframe\">\n",
       "  <thead>\n",
       "    <tr style=\"text-align: right;\">\n",
       "      <th></th>\n",
       "      <th>CodigoCliente</th>\n",
       "      <th>Titulo</th>\n",
       "      <th>PrimeiroNome</th>\n",
       "      <th>UltimoNome</th>\n",
       "      <th>Idade</th>\n",
       "      <th>Sexo</th>\n",
       "      <th>Endereco</th>\n",
       "      <th>Cidade</th>\n",
       "      <th>UF</th>\n",
       "      <th>UFCompleto</th>\n",
       "      <th>...</th>\n",
       "      <th>AnosDeRelacionamentoBanco</th>\n",
       "      <th>JaUsouChequeEspecial</th>\n",
       "      <th>QtdEmprestimos</th>\n",
       "      <th>NumeroAtendimentos</th>\n",
       "      <th>TMA</th>\n",
       "      <th>IndiceSatisfacao</th>\n",
       "      <th>Saldo</th>\n",
       "      <th>CLTV</th>\n",
       "      <th>CanalPref</th>\n",
       "      <th>Churn</th>\n",
       "    </tr>\n",
       "  </thead>\n",
       "  <tbody>\n",
       "    <tr>\n",
       "      <th>0</th>\n",
       "      <td>1.0</td>\n",
       "      <td>Sra.</td>\n",
       "      <td>Fernanda</td>\n",
       "      <td>Camargo</td>\n",
       "      <td>32.0</td>\n",
       "      <td>Feminino</td>\n",
       "      <td>Rua Paulo Suplicy, 376</td>\n",
       "      <td>São Paulo</td>\n",
       "      <td>SP</td>\n",
       "      <td>São Paulo</td>\n",
       "      <td>...</td>\n",
       "      <td>3.0</td>\n",
       "      <td>0.0</td>\n",
       "      <td>1.0</td>\n",
       "      <td>7.0</td>\n",
       "      <td>2.0</td>\n",
       "      <td>4.0</td>\n",
       "      <td>55229.0</td>\n",
       "      <td>65.0</td>\n",
       "      <td>Push</td>\n",
       "      <td>0.0</td>\n",
       "    </tr>\n",
       "    <tr>\n",
       "      <th>1</th>\n",
       "      <td>2.0</td>\n",
       "      <td>Sr.</td>\n",
       "      <td>Paulo</td>\n",
       "      <td>Dias</td>\n",
       "      <td>63.0</td>\n",
       "      <td>Masculino</td>\n",
       "      <td>Estrada Transcastanhal 456</td>\n",
       "      <td>Castanhal</td>\n",
       "      <td>PA</td>\n",
       "      <td>Pará</td>\n",
       "      <td>...</td>\n",
       "      <td>2.0</td>\n",
       "      <td>1.0</td>\n",
       "      <td>0.0</td>\n",
       "      <td>15.0</td>\n",
       "      <td>87.0</td>\n",
       "      <td>3.0</td>\n",
       "      <td>9936.0</td>\n",
       "      <td>66.0</td>\n",
       "      <td>Email</td>\n",
       "      <td>1.0</td>\n",
       "    </tr>\n",
       "    <tr>\n",
       "      <th>2</th>\n",
       "      <td>3.0</td>\n",
       "      <td>Sr.</td>\n",
       "      <td>Enzo</td>\n",
       "      <td>Araujo</td>\n",
       "      <td>64.0</td>\n",
       "      <td>Masculino</td>\n",
       "      <td>Rua Joana D'Arc Gonçalves 576</td>\n",
       "      <td>Araxá</td>\n",
       "      <td>MG</td>\n",
       "      <td>Minas Gerais</td>\n",
       "      <td>...</td>\n",
       "      <td>19.0</td>\n",
       "      <td>0.0</td>\n",
       "      <td>0.0</td>\n",
       "      <td>1.0</td>\n",
       "      <td>5.0</td>\n",
       "      <td>4.0</td>\n",
       "      <td>769.0</td>\n",
       "      <td>30.0</td>\n",
       "      <td>SMS</td>\n",
       "      <td>1.0</td>\n",
       "    </tr>\n",
       "    <tr>\n",
       "      <th>3</th>\n",
       "      <td>4.0</td>\n",
       "      <td>Sr.</td>\n",
       "      <td>Martim</td>\n",
       "      <td>Souza</td>\n",
       "      <td>59.0</td>\n",
       "      <td>Masculino</td>\n",
       "      <td>Rua Paulo Suplicy 376</td>\n",
       "      <td>São Paulo</td>\n",
       "      <td>SP</td>\n",
       "      <td>São Paulo</td>\n",
       "      <td>...</td>\n",
       "      <td>9.0</td>\n",
       "      <td>1.0</td>\n",
       "      <td>0.0</td>\n",
       "      <td>2.0</td>\n",
       "      <td>2.0</td>\n",
       "      <td>4.0</td>\n",
       "      <td>1246.0</td>\n",
       "      <td>76.0</td>\n",
       "      <td>Email</td>\n",
       "      <td>1.0</td>\n",
       "    </tr>\n",
       "    <tr>\n",
       "      <th>4</th>\n",
       "      <td>5.0</td>\n",
       "      <td>Sr.</td>\n",
       "      <td>Gabriel</td>\n",
       "      <td>Barros</td>\n",
       "      <td>21.0</td>\n",
       "      <td>Masculino</td>\n",
       "      <td>Rua M 879</td>\n",
       "      <td>Valparaíso de Goiás</td>\n",
       "      <td>GO</td>\n",
       "      <td>Goiás</td>\n",
       "      <td>...</td>\n",
       "      <td>16.0</td>\n",
       "      <td>0.0</td>\n",
       "      <td>0.0</td>\n",
       "      <td>3.0</td>\n",
       "      <td>4.0</td>\n",
       "      <td>4.0</td>\n",
       "      <td>2732.0</td>\n",
       "      <td>90.0</td>\n",
       "      <td>Email</td>\n",
       "      <td>0.0</td>\n",
       "    </tr>\n",
       "  </tbody>\n",
       "</table>\n",
       "<p>5 rows × 27 columns</p>\n",
       "</div>"
      ],
      "text/plain": [
       "   CodigoCliente Titulo PrimeiroNome UltimoNome  Idade       Sexo  \\\n",
       "0            1.0   Sra.     Fernanda    Camargo   32.0   Feminino   \n",
       "1            2.0    Sr.        Paulo       Dias   63.0  Masculino   \n",
       "2            3.0    Sr.         Enzo     Araujo   64.0  Masculino   \n",
       "3            4.0    Sr.       Martim      Souza   59.0  Masculino   \n",
       "4            5.0    Sr.      Gabriel     Barros   21.0  Masculino   \n",
       "\n",
       "                        Endereco               Cidade  UF    UFCompleto  ...  \\\n",
       "0         Rua Paulo Suplicy, 376            São Paulo  SP     São Paulo  ...   \n",
       "1     Estrada Transcastanhal 456            Castanhal  PA          Pará  ...   \n",
       "2  Rua Joana D'Arc Gonçalves 576                Araxá  MG  Minas Gerais  ...   \n",
       "3          Rua Paulo Suplicy 376            São Paulo  SP     São Paulo  ...   \n",
       "4                      Rua M 879  Valparaíso de Goiás  GO         Goiás  ...   \n",
       "\n",
       "  AnosDeRelacionamentoBanco JaUsouChequeEspecial QtdEmprestimos  \\\n",
       "0                       3.0                  0.0            1.0   \n",
       "1                       2.0                  1.0            0.0   \n",
       "2                      19.0                  0.0            0.0   \n",
       "3                       9.0                  1.0            0.0   \n",
       "4                      16.0                  0.0            0.0   \n",
       "\n",
       "  NumeroAtendimentos   TMA  IndiceSatisfacao    Saldo  CLTV  CanalPref  Churn  \n",
       "0                7.0   2.0               4.0  55229.0  65.0       Push    0.0  \n",
       "1               15.0  87.0               3.0   9936.0  66.0      Email    1.0  \n",
       "2                1.0   5.0               4.0    769.0  30.0        SMS    1.0  \n",
       "3                2.0   2.0               4.0   1246.0  76.0      Email    1.0  \n",
       "4                3.0   4.0               4.0   2732.0  90.0      Email    0.0  \n",
       "\n",
       "[5 rows x 27 columns]"
      ]
     },
     "execution_count": 5,
     "metadata": {},
     "output_type": "execute_result"
    }
   ],
   "source": [
    "customer_data.head(5)"
   ]
  },
  {
   "cell_type": "markdown",
   "metadata": {
    "application/vnd.databricks.v1+cell": {
     "inputWidgets": {},
     "nuid": "ad9a3c87-ea02-45e4-abbc-b9a25e833d86",
     "showTitle": false,
     "title": ""
    }
   },
   "source": [
    "##Data Visualization\n",
    "\n",
    "Before training a model, explore the dataset using Seaborn and Matplotlib."
   ]
  },
  {
   "cell_type": "markdown",
   "metadata": {
    "application/vnd.databricks.v1+cell": {
     "inputWidgets": {},
     "nuid": "46fd1e03-3df2-4dd6-ab48-06533b875235",
     "showTitle": false,
     "title": ""
    }
   },
   "source": [
    "Plot a histogram of the dependent variable, **IndiceSatisfacao** (An index that measure how satisfied a customer is with the service)."
   ]
  },
  {
   "cell_type": "code",
   "execution_count": 6,
   "metadata": {
    "application/vnd.databricks.v1+cell": {
     "inputWidgets": {},
     "nuid": "a7e93d7f-a8b3-485a-8ffa-d557f6d92ddd",
     "showTitle": false,
     "title": ""
    }
   },
   "outputs": [
    {
     "name": "stderr",
     "output_type": "stream",
     "text": [
      "/anaconda/envs/azureml_py36/lib/python3.6/site-packages/seaborn/distributions.py:2619: FutureWarning: `distplot` is a deprecated function and will be removed in a future version. Please adapt your code to use either `displot` (a figure-level function with similar flexibility) or `histplot` (an axes-level function for histograms).\n",
      "  warnings.warn(msg, FutureWarning)\n"
     ]
    },
    {
     "data": {
      "text/plain": [
       "<matplotlib.axes._subplots.AxesSubplot at 0x7f6eea68b5c0>"
      ]
     },
     "execution_count": 6,
     "metadata": {},
     "output_type": "execute_result"
    },
    {
     "data": {
      "image/png": "[encoded data removed]",
      "text/plain": [
       "<Figure size 432x288 with 1 Axes>"
      ]
     },
     "metadata": {
      "needs_background": "light"
     },
     "output_type": "display_data"
    }
   ],
   "source": [
    "import seaborn as sns\n",
    "sns.distplot(customer_data.IndiceSatisfacao, kde=False)"
   ]
  },
  {
   "cell_type": "markdown",
   "metadata": {
    "application/vnd.databricks.v1+cell": {
     "inputWidgets": {},
     "nuid": "c53b1059-66c8-42fa-a5a1-c6fd6861e078",
     "showTitle": false,
     "title": ""
    }
   },
   "source": [
    "Now we can analyse how the numeric features correlate each other, `pandas` have a native method `corr()` that use `pearson` correlation by default (you can alter this behavior using the *method* parameter)."
   ]
  },
  {
   "cell_type": "code",
   "execution_count": 7,
   "metadata": {
    "application/vnd.databricks.v1+cell": {
     "inputWidgets": {},
     "nuid": "85b0bbd5-bdbb-494d-9b27-cbded37e2757",
     "showTitle": false,
     "title": ""
    }
   },
   "outputs": [
    {
     "data": {
      "image/png": "[encoded data removed]",
      "text/plain": [
       "<Figure size 432x288 with 1 Axes>"
      ]
     },
     "metadata": {
      "needs_background": "light"
     },
     "output_type": "display_data"
    }
   ],
   "source": [
    "import matplotlib as plt\n",
    "\n",
    "numeric_columns = []\n",
    "for col in customer_data.columns:\n",
    "    if(customer_data[col].dtypes!='object'):\n",
    "        numeric_columns.append(col)\n",
    "    \n",
    "corr = customer_data[numeric_columns].corr()\n",
    "\n",
    "ax1 = sns.heatmap(corr, cbar=0, linewidths=5, square=True, cmap='Reds')"
   ]
  },
  {
   "cell_type": "markdown",
   "metadata": {
    "application/vnd.databricks.v1+cell": {
     "inputWidgets": {},
     "nuid": "fb9ffcb1-999a-40c4-89d0-556d06875a0c",
     "showTitle": false,
     "title": ""
    }
   },
   "source": [
    "## Preprocessing Data\n",
    "Prior to training a model, check for missing values and split the data into training and validation sets.\n",
    "In the last steps of this lab we already checked this point, so we cannot have any missing data"
   ]
  },
  {
   "cell_type": "code",
   "execution_count": 11,
   "metadata": {
    "application/vnd.databricks.v1+cell": {
     "inputWidgets": {},
     "nuid": "9b53aef6-6b05-40d1-aa4c-1112a07ca715",
     "showTitle": false,
     "title": ""
    }
   },
   "outputs": [
    {
     "data": {
      "text/plain": [
       "CodigoCliente                 False\n",
       "Titulo                        False\n",
       "PrimeiroNome                  False\n",
       "UltimoNome                    False\n",
       "Idade                         False\n",
       "Sexo                          False\n",
       "Endereco                      False\n",
       "Cidade                        False\n",
       "UF                            False\n",
       "UFCompleto                    False\n",
       "CEP                           False\n",
       "Pais                          False\n",
       "PaisCompleto                  False\n",
       "Email                         False\n",
       "RendaMensal                   False\n",
       "PercentualUtilizacaoLimite    False\n",
       "QtdTransacoesNegadas          False\n",
       "AnosDeRelacionamentoBanco     False\n",
       "JaUsouChequeEspecial          False\n",
       "QtdEmprestimos                False\n",
       "NumeroAtendimentos            False\n",
       "TMA                           False\n",
       "IndiceSatisfacao              False\n",
       "Saldo                         False\n",
       "CLTV                          False\n",
       "CanalPref                     False\n",
       "Churn                         False\n",
       "dtype: bool"
      ]
     },
     "execution_count": 11,
     "metadata": {},
     "output_type": "execute_result"
    }
   ],
   "source": [
    "customer_data.isna().any()"
   ]
  },
  {
   "cell_type": "markdown",
   "metadata": {},
   "source": [
    " Remove missing values"
   ]
  },
  {
   "cell_type": "code",
   "execution_count": 12,
   "metadata": {},
   "outputs": [],
   "source": [
    "customer_data = customer_data.dropna(axis=0)"
   ]
  },
  {
   "cell_type": "code",
   "execution_count": 13,
   "metadata": {},
   "outputs": [
    {
     "data": {
      "text/plain": [
       "CodigoCliente                 False\n",
       "Titulo                        False\n",
       "PrimeiroNome                  False\n",
       "UltimoNome                    False\n",
       "Idade                         False\n",
       "Sexo                          False\n",
       "Endereco                      False\n",
       "Cidade                        False\n",
       "UF                            False\n",
       "UFCompleto                    False\n",
       "CEP                           False\n",
       "Pais                          False\n",
       "PaisCompleto                  False\n",
       "Email                         False\n",
       "RendaMensal                   False\n",
       "PercentualUtilizacaoLimite    False\n",
       "QtdTransacoesNegadas          False\n",
       "AnosDeRelacionamentoBanco     False\n",
       "JaUsouChequeEspecial          False\n",
       "QtdEmprestimos                False\n",
       "NumeroAtendimentos            False\n",
       "TMA                           False\n",
       "IndiceSatisfacao              False\n",
       "Saldo                         False\n",
       "CLTV                          False\n",
       "CanalPref                     False\n",
       "Churn                         False\n",
       "dtype: bool"
      ]
     },
     "execution_count": 13,
     "metadata": {},
     "output_type": "execute_result"
    }
   ],
   "source": [
    "customer_data.isna().any()"
   ]
  },
  {
   "cell_type": "markdown",
   "metadata": {
    "application/vnd.databricks.v1+cell": {
     "inputWidgets": {},
     "nuid": "2aac075f-2f46-401d-9c84-7f1ae24d8130",
     "showTitle": false,
     "title": ""
    }
   },
   "source": [
    "Indeed there is no missing data"
   ]
  },
  {
   "cell_type": "markdown",
   "metadata": {
    "application/vnd.databricks.v1+cell": {
     "inputWidgets": {},
     "nuid": "f0397cb5-aede-4ead-8674-eda5ffa63999",
     "showTitle": false,
     "title": ""
    }
   },
   "source": [
    "## Train the model"
   ]
  },
  {
   "cell_type": "markdown",
   "metadata": {
    "application/vnd.databricks.v1+cell": {
     "inputWidgets": {},
     "nuid": "409a2ee5-29d2-4dab-b071-d1f2207cff96",
     "showTitle": false,
     "title": ""
    }
   },
   "source": [
    "First of all let's split train and test data"
   ]
  },
  {
   "cell_type": "code",
   "execution_count": 14,
   "metadata": {
    "application/vnd.databricks.v1+cell": {
     "inputWidgets": {},
     "nuid": "4ffc11c3-997c-492c-bc60-50e4a014bea1",
     "showTitle": false,
     "title": ""
    }
   },
   "outputs": [],
   "source": [
    "from sklearn.model_selection import train_test_split\n",
    "SEED = 2020\n",
    "\n",
    "train, test = train_test_split(customer_data, random_state=SEED, test_size=0.33)"
   ]
  },
  {
   "cell_type": "code",
   "execution_count": 15,
   "metadata": {
    "application/vnd.databricks.v1+cell": {
     "inputWidgets": {},
     "nuid": "fb9822b5-3cc5-4683-93ee-0dbaa8bb92cd",
     "showTitle": false,
     "title": ""
    }
   },
   "outputs": [
    {
     "data": {
      "text/html": [
       "<div>\n",
       "<style scoped>\n",
       "    .dataframe tbody tr th:only-of-type {\n",
       "        vertical-align: middle;\n",
       "    }\n",
       "\n",
       "    .dataframe tbody tr th {\n",
       "        vertical-align: top;\n",
       "    }\n",
       "\n",
       "    .dataframe thead th {\n",
       "        text-align: right;\n",
       "    }\n",
       "</style>\n",
       "<table border=\"1\" class=\"dataframe\">\n",
       "  <thead>\n",
       "    <tr style=\"text-align: right;\">\n",
       "      <th></th>\n",
       "      <th>CodigoCliente</th>\n",
       "      <th>Titulo</th>\n",
       "      <th>PrimeiroNome</th>\n",
       "      <th>UltimoNome</th>\n",
       "      <th>Idade</th>\n",
       "      <th>Sexo</th>\n",
       "      <th>Endereco</th>\n",
       "      <th>Cidade</th>\n",
       "      <th>UF</th>\n",
       "      <th>UFCompleto</th>\n",
       "      <th>...</th>\n",
       "      <th>AnosDeRelacionamentoBanco</th>\n",
       "      <th>JaUsouChequeEspecial</th>\n",
       "      <th>QtdEmprestimos</th>\n",
       "      <th>NumeroAtendimentos</th>\n",
       "      <th>TMA</th>\n",
       "      <th>IndiceSatisfacao</th>\n",
       "      <th>Saldo</th>\n",
       "      <th>CLTV</th>\n",
       "      <th>CanalPref</th>\n",
       "      <th>Churn</th>\n",
       "    </tr>\n",
       "  </thead>\n",
       "  <tbody>\n",
       "    <tr>\n",
       "      <th>3782</th>\n",
       "      <td>3773.0</td>\n",
       "      <td>Sr.</td>\n",
       "      <td>Ryan</td>\n",
       "      <td>Goncalves</td>\n",
       "      <td>37.0</td>\n",
       "      <td>Masculino</td>\n",
       "      <td>Rua Caetano Sampieri 554</td>\n",
       "      <td>Bauru</td>\n",
       "      <td>SP</td>\n",
       "      <td>São Paulo</td>\n",
       "      <td>...</td>\n",
       "      <td>18.0</td>\n",
       "      <td>1.0</td>\n",
       "      <td>3.0</td>\n",
       "      <td>49.0</td>\n",
       "      <td>95.0</td>\n",
       "      <td>0.0</td>\n",
       "      <td>9681.0</td>\n",
       "      <td>86.0</td>\n",
       "      <td>Email</td>\n",
       "      <td>1.0</td>\n",
       "    </tr>\n",
       "  </tbody>\n",
       "</table>\n",
       "<p>1 rows × 27 columns</p>\n",
       "</div>"
      ],
      "text/plain": [
       "      CodigoCliente Titulo PrimeiroNome UltimoNome  Idade       Sexo  \\\n",
       "3782         3773.0    Sr.         Ryan  Goncalves   37.0  Masculino   \n",
       "\n",
       "                      Endereco Cidade  UF UFCompleto  ...  \\\n",
       "3782  Rua Caetano Sampieri 554  Bauru  SP  São Paulo  ...   \n",
       "\n",
       "     AnosDeRelacionamentoBanco JaUsouChequeEspecial QtdEmprestimos  \\\n",
       "3782                      18.0                  1.0            3.0   \n",
       "\n",
       "     NumeroAtendimentos   TMA  IndiceSatisfacao   Saldo  CLTV  CanalPref  \\\n",
       "3782               49.0  95.0               0.0  9681.0  86.0      Email   \n",
       "\n",
       "      Churn  \n",
       "3782    1.0  \n",
       "\n",
       "[1 rows x 27 columns]"
      ]
     },
     "execution_count": 15,
     "metadata": {},
     "output_type": "execute_result"
    }
   ],
   "source": [
    "train.head(1)"
   ]
  },
  {
   "cell_type": "code",
   "execution_count": 16,
   "metadata": {
    "application/vnd.databricks.v1+cell": {
     "inputWidgets": {},
     "nuid": "251b0b13-37ab-4896-bc35-63143269d07b",
     "showTitle": false,
     "title": ""
    }
   },
   "outputs": [],
   "source": [
    "TARGET_COLUMN = 'Churn'\n",
    "drop_columns = [TARGET_COLUMN, 'CodigoCliente'] \n",
    "\n",
    "X_train = train[numeric_columns].drop(drop_columns, axis=1)\n",
    "X_test = test[numeric_columns].drop(drop_columns, axis=1)\n",
    "\n",
    "y_train = train[TARGET_COLUMN]\n",
    "y_test = test[TARGET_COLUMN]"
   ]
  },
  {
   "cell_type": "markdown",
   "metadata": {
    "application/vnd.databricks.v1+cell": {
     "inputWidgets": {},
     "nuid": "9f3f4fb8-bae1-4fa1-9c35-a88467f0a303",
     "showTitle": false,
     "title": ""
    }
   },
   "source": [
    "## Building a Baseline Model\n",
    "This task seems well suited to a random forest classifier, since the output is binary and there may be interactions between multiple variables.\n",
    "\n",
    "The following code builds a simple classifier using scikit-learn."
   ]
  },
  {
   "cell_type": "code",
   "execution_count": 17,
   "metadata": {
    "application/vnd.databricks.v1+cell": {
     "inputWidgets": {},
     "nuid": "ce09aaff-26f2-4668-86f7-5b980e74d559",
     "showTitle": false,
     "title": ""
    }
   },
   "outputs": [
    {
     "data": {
      "text/plain": [
       "RandomForestClassifier(bootstrap=True, ccp_alpha=0.0, class_weight=None,\n",
       "                       criterion='gini', max_depth=None, max_features='auto',\n",
       "                       max_leaf_nodes=None, max_samples=None,\n",
       "                       min_impurity_decrease=0.0, min_impurity_split=None,\n",
       "                       min_samples_leaf=1, min_samples_split=2,\n",
       "                       min_weight_fraction_leaf=0.0, n_estimators=3,\n",
       "                       n_jobs=None, oob_score=False,\n",
       "                       random_state=RandomState(MT19937) at 0x7F6EE3740258,\n",
       "                       verbose=0, warm_start=False)"
      ]
     },
     "execution_count": 17,
     "metadata": {},
     "output_type": "execute_result"
    }
   ],
   "source": [
    "import numpy as np\n",
    "from sklearn.ensemble import RandomForestClassifier\n",
    "\n",
    "n_estimators = 3\n",
    "\n",
    "model = RandomForestClassifier(n_estimators=n_estimators, random_state=np.random.RandomState(SEED))\n",
    "model.fit(X_train, y_train)"
   ]
  },
  {
   "cell_type": "code",
   "execution_count": 18,
   "metadata": {
    "application/vnd.databricks.v1+cell": {
     "inputWidgets": {},
     "nuid": "cb46de19-a4d0-4943-ae1b-1252f51cc03b",
     "showTitle": false,
     "title": ""
    }
   },
   "outputs": [],
   "source": [
    "# predict_proba returns [prob_negative, prob_positive], so slice the output with [:, 1]\n",
    "predictions_test = model.predict_proba(X_test)[:,1]"
   ]
  },
  {
   "cell_type": "code",
   "execution_count": 19,
   "metadata": {
    "application/vnd.databricks.v1+cell": {
     "inputWidgets": {},
     "nuid": "c854cd37-2eb8-47c7-804b-b3dbac0fe8e2",
     "showTitle": false,
     "title": ""
    }
   },
   "outputs": [],
   "source": [
    "y_pred = model.predict(X_test)"
   ]
  },
  {
   "cell_type": "markdown",
   "metadata": {
    "application/vnd.databricks.v1+cell": {
     "inputWidgets": {},
     "nuid": "aebdff27-b9a8-4b23-9467-58cc39156873",
     "showTitle": false,
     "title": ""
    }
   },
   "source": [
    "#### Model Evaluation"
   ]
  },
  {
   "cell_type": "markdown",
   "metadata": {
    "application/vnd.databricks.v1+cell": {
     "inputWidgets": {},
     "nuid": "c52a57a0-a70f-4bc7-80bb-9d662d78c48f",
     "showTitle": false,
     "title": ""
    }
   },
   "source": [
    "Get False and True Positive rate"
   ]
  },
  {
   "cell_type": "code",
   "execution_count": 20,
   "metadata": {
    "application/vnd.databricks.v1+cell": {
     "inputWidgets": {},
     "nuid": "3ecc9d5a-756c-46c2-b8cd-cf4c42ba7111",
     "showTitle": false,
     "title": ""
    }
   },
   "outputs": [
    {
     "data": {
      "text/plain": [
       "<matplotlib.axes._subplots.AxesSubplot at 0x7f6ee2d970f0>"
      ]
     },
     "execution_count": 20,
     "metadata": {},
     "output_type": "execute_result"
    },
    {
     "data": {
      "image/png": "[encoded data removed]",
      "text/plain": [
       "<Figure size 432x288 with 2 Axes>"
      ]
     },
     "metadata": {
      "needs_background": "light"
     },
     "output_type": "display_data"
    }
   ],
   "source": [
    "from sklearn.metrics import confusion_matrix\n",
    "  \n",
    "c_matrix_log = confusion_matrix(\n",
    "  y_test, y_pred, labels=[0, 1])\n",
    "sns.heatmap(\n",
    "    c_matrix_log, annot=True, fmt=\"d\")"
   ]
  },
  {
   "cell_type": "code",
   "execution_count": 21,
   "metadata": {
    "application/vnd.databricks.v1+cell": {
     "inputWidgets": {},
     "nuid": "295301f3-7ee9-401e-8cca-aaf498cb57ea",
     "showTitle": false,
     "title": ""
    }
   },
   "outputs": [
    {
     "name": "stdout",
     "output_type": "stream",
     "text": [
      "Results:  RandomForestClassifier \n",
      "Precisão: 0.972 \n",
      "Recall: 0.937 \n",
      "AUC: 0.953 \n",
      "Acurácia: 0.953 \n",
      "\n"
     ]
    }
   ],
   "source": [
    "from sklearn.metrics import accuracy_score\n",
    "from sklearn.metrics import roc_auc_score\n",
    "from sklearn.metrics import recall_score\n",
    "from sklearn.metrics import precision_score\n",
    "from sklearn.metrics import f1_score\n",
    "\n",
    "print('Results: ',\n",
    "          str(model).split('(')[0], '\\nPrecisão: {0:.3}'.format(\n",
    "              precision_score(y_test, y_pred)), '\\nRecall: {0:.3f}'.format(\n",
    "                  recall_score(y_test, y_pred)), '\\nAUC: {0:.3f}'.format(\n",
    "                      roc_auc_score(y_test, y_pred)),\n",
    "          '\\nAcurácia: {0:.3f}'.format(accuracy_score(y_test, y_pred)), '\\n')"
   ]
  },
  {
   "cell_type": "markdown",
   "metadata": {
    "application/vnd.databricks.v1+cell": {
     "inputWidgets": {},
     "nuid": "2ba64ca2-abf0-4b73-b763-e0657200b6f0",
     "showTitle": false,
     "title": ""
    }
   },
   "source": [
    "Plot ROC Curve"
   ]
  },
  {
   "cell_type": "code",
   "execution_count": 22,
   "metadata": {
    "application/vnd.databricks.v1+cell": {
     "inputWidgets": {},
     "nuid": "849f0eeb-994b-41af-9dc0-27250f37dfa9",
     "showTitle": false,
     "title": ""
    }
   },
   "outputs": [
    {
     "data": {
      "image/png": "[encoded data removed]",
      "text/plain": [
       "<Figure size 432x288 with 1 Axes>"
      ]
     },
     "metadata": {
      "needs_background": "light"
     },
     "output_type": "display_data"
    }
   ],
   "source": [
    "import matplotlib.pyplot as plt\n",
    "from sklearn.metrics import roc_curve\n",
    "\n",
    "fpr_rf, tpr_rf, _ = roc_curve(y_test, predictions_test)\n",
    "\n",
    "plt.figure(1)\n",
    "plt.plot([0, 1], [0, 1], '--')\n",
    "plt.plot(fpr_rf, tpr_rf, label = 'ROC Curve (AUC: {0:.2f})'.format(\n",
    "                      roc_auc_score(y_test, y_pred)))\n",
    "plt.xlabel('False positive rate')\n",
    "plt.ylabel('True positive rate')\n",
    "plt.title('ROC Curve')\n",
    "plt.legend(loc='best')\n",
    "plt.show()"
   ]
  },
  {
   "cell_type": "markdown",
   "metadata": {
    "application/vnd.databricks.v1+cell": {
     "inputWidgets": {},
     "nuid": "dda3db5f-ee51-4305-a309-ff54d25fd337",
     "showTitle": false,
     "title": ""
    }
   },
   "source": [
    "Seems to be a good model to begin. 😃\n",
    "\n",
    "But let's try to make some improvements ..."
   ]
  },
  {
   "cell_type": "markdown",
   "metadata": {},
   "source": [
    "## XGBoost Model"
   ]
  },
  {
   "cell_type": "code",
   "execution_count": 44,
   "metadata": {},
   "outputs": [
    {
     "name": "stdout",
     "output_type": "stream",
     "text": [
      "auc-score: 0.9609\n"
     ]
    }
   ],
   "source": [
    "import xgboost as xgb\n",
    "import warnings\n",
    "\n",
    "warnings.filterwarnings('ignore')\n",
    "\n",
    "train = xgb.DMatrix(data=X_train, label=y_train)\n",
    "test = xgb.DMatrix(data=X_test, label=y_test)\n",
    "\n",
    "params = {'early_stopping_rounds': 50, \n",
    "          'learning_rate': 0.2260, \n",
    "          'max_depth': 64, \n",
    "          'maximize': False, \n",
    "          'min_child_weight': 19.22, \n",
    "          'num_boost_round': 1000, \n",
    "          'reg_alpha': 0.01, \n",
    "          'reg_lambda': 0.348, \n",
    "          'objective': 'binary:hinge',\n",
    "          'seed': SEED}\n",
    "\n",
    "# Pass in the test set so xgb can track an evaluation metric. XGBoost terminates training when the evaluation metric\n",
    "# is no longer improving.\n",
    "booster = xgb.train(params=params, dtrain=train, num_boost_round=1000,\\\n",
    "                    evals=[(test, \"test\")], early_stopping_rounds=50, verbose_eval=False)\n",
    "\n",
    "predictions_test = booster.predict(test)\n",
    "auc_score = roc_auc_score(y_test, predictions_test)\n",
    "print(f'auc-score: {round(auc_score, 4)}')"
   ]
  }
 ],
 "metadata": {
  "application/vnd.databricks.v1+notebook": {
   "dashboards": [],
   "language": "python",
   "notebookMetadata": {
    "experimentId": "4050486937759260",
    "pythonIndentUnit": 2
   },
   "notebookName": "model-churn-prediction",
   "notebookOrigID": 4050486937759213,
   "widgets": {}
  },
  "kernelspec": {
   "display_name": "Python 3.6 - AzureML",
   "language": "python",
   "name": "python3-azureml"
  },
  "language_info": {
   "codemirror_mode": {
    "name": "ipython",
    "version": 3
   },
   "file_extension": ".py",
   "mimetype": "text/x-python",
   "name": "python",
   "nbconvert_exporter": "python",
   "pygments_lexer": "ipython3",
   "version": "3.6.9"
  },
  "nteract": {
   "version": "nteract-front-end@1.0.0"
  }
 },
 "nbformat": 4,
 "nbformat_minor": 1
}
