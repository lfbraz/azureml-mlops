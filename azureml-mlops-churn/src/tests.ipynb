{
 "cells": [
  {
   "cell_type": "code",
   "execution_count": 1,
   "id": "d3d6bc7c",
   "metadata": {},
   "outputs": [],
   "source": [
    "import train"
   ]
  },
  {
   "cell_type": "code",
   "execution_count": null,
   "id": "9eefd9ae",
   "metadata": {},
   "outputs": [],
   "source": [
    "params = {'early_stopping_rounds': 50, \n",
    "          'learning_rate': 0.2260, \n",
    "          'max_depth': 64, \n",
    "          'maximize': False, \n",
    "          'min_child_weight': 19.22, \n",
    "          'num_boost_round': 1000, \n",
    "          'reg_alpha': 0.01, \n",
    "          'reg_lambda': 0.348, \n",
    "          'verbose_eval': False,\n",
    "          'seed': seed}"
   ]
  },
  {
   "cell_type": "code",
   "execution_count": 2,
   "id": "53521f63",
   "metadata": {},
   "outputs": [
    {
     "name": "stderr",
     "output_type": "stream",
     "text": [
      "usage: ipykernel_launcher.py [-h] [--max_depth MAX_DEPTH]\n",
      "                             [--learning_rate LEARNING_RATE]\n",
      "                             [--reg_alpha REG_ALPHA] [--reg_lambda REG_LAMBDA]\n",
      "                             [--min_child_weight MIN_CHILD_WEIGHT]\n",
      "ipykernel_launcher.py: error: unrecognized arguments: -f /home/azureuser/.local/share/jupyter/runtime/kernel-25601b86-d052-428e-8930-68ad0244269f.json\n"
     ]
    },
    {
     "ename": "SystemExit",
     "evalue": "2",
     "output_type": "error",
     "traceback": [
      "An exception has occurred, use %tb to see the full traceback.\n",
      "\u001b[0;31mSystemExit\u001b[0m\u001b[0;31m:\u001b[0m 2\n"
     ]
    }
   ],
   "source": [
    "from azureml.core import Workspace, Dataset\n",
    "\n",
    "import warnings\n",
    "warnings.filterwarnings('ignore')\n",
    "\n",
    "workspace = Workspace.from_config()\n",
    "\n",
    "train.main(workspace, max_depth=64, learning_rate=0.2260, reg_alpha=0.01, reg_lambda=0.348, min_child_weight=19.22)"
   ]
  }
 ],
 "metadata": {
  "kernelspec": {
   "display_name": "Python 3.6 - AzureML",
   "language": "python",
   "name": "python3-azureml"
  },
  "language_info": {
   "codemirror_mode": {
    "name": "ipython",
    "version": 3
   },
   "file_extension": ".py",
   "mimetype": "text/x-python",
   "name": "python",
   "nbconvert_exporter": "python",
   "pygments_lexer": "ipython3",
   "version": "3.6.9"
  }
 },
 "nbformat": 4,
 "nbformat_minor": 5
}
